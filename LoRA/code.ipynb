{
 "cells": [
  {
   "cell_type": "code",
   "id": "initial_id",
   "metadata": {
    "collapsed": true,
    "ExecuteTime": {
     "end_time": "2025-01-10T14:07:42.229303Z",
     "start_time": "2025-01-10T14:07:42.215809Z"
    }
   },
   "source": [
    "import torch\n",
    "import torch.nn as nn\n",
    "from typing import Callable\n",
    "\n",
    "from torchvision import transforms\n",
    "from torchvision.datasets import MNIST\n",
    "from torch.optim import Optimizer\n",
    "from torch.utils.data import DataLoader, Dataset\n",
    "\n",
    "import numpy as np\n",
    "from typing import Optional\n",
    "\n",
    "import matplotlib.pyplot as plt\n",
    "import seaborn as sns\n",
    "\n",
    "from sklearn.metrics import confusion_matrix\n",
    "\n",
    "import random\n"
   ],
   "outputs": [],
   "execution_count": 59
  },
  {
   "metadata": {
    "ExecuteTime": {
     "end_time": "2025-01-10T09:32:54.661336Z",
     "start_time": "2025-01-10T09:32:54.654771Z"
    }
   },
   "cell_type": "code",
   "source": [
    "class SimpleMnistClassifier(nn.Module):\n",
    "    def __init__(self):\n",
    "        super(SimpleMnistClassifier, self).__init__()\n",
    "        # MNIST images are 28x28 pixels -> 28*28=784 input features\n",
    "        self.fc1 = nn.Linear(784, 256)\n",
    "        self.fc2 = nn.Linear(256, 128)\n",
    "        self.fc3 = nn.Linear(128, 10)\n",
    "\n",
    "    def forward(self, x: torch.Tensor) -> torch.Tensor:\n",
    "        x = x.view(-1, 784)\n",
    "        x = torch.relu(self.fc1(x))\n",
    "        x = torch.relu(self.fc2(x))\n",
    "        x = self.fc3(x)\n",
    "        return x"
   ],
   "id": "ed5aedfaf6c71220",
   "outputs": [],
   "execution_count": 2
  },
  {
   "metadata": {
    "ExecuteTime": {
     "end_time": "2025-01-10T09:33:38.250793Z",
     "start_time": "2025-01-10T09:33:38.245056Z"
    }
   },
   "cell_type": "code",
   "source": [
    "LossFn = Callable[[torch.Tensor, torch.Tensor], torch.Tensor]\n",
    "\n",
    "\n",
    "def train_epoch(model: nn.Module, train_loader: DataLoader, loss_fn, optimizer: Optimizer, device: torch.types.Device) -> tuple[float, float]:\n",
    "    model.train()\n",
    "    running_loss = 0.0\n",
    "    correct = 0\n",
    "    total = 0\n",
    "\n",
    "    for images, labels in train_loader:\n",
    "        images, labels = images.to(device), labels.to(device)\n",
    "\n",
    "        optimizer.zero_grad()\n",
    "        outputs = model(images)\n",
    "        loss = loss_fn(outputs, labels)\n",
    "        loss.backward()\n",
    "        optimizer.step()\n",
    "\n",
    "        running_loss += loss.item()\n",
    "        _, predicted = outputs.max(1)\n",
    "        total += labels.size(0)\n",
    "        correct += predicted.eq(labels).sum().item()\n",
    "\n",
    "    return running_loss / len(train_loader), 100. * correct / total"
   ],
   "id": "95e2172ab65365e",
   "outputs": [],
   "execution_count": 4
  },
  {
   "metadata": {
    "ExecuteTime": {
     "end_time": "2025-01-10T09:34:41.469168Z",
     "start_time": "2025-01-10T09:34:41.463022Z"
    }
   },
   "cell_type": "code",
   "source": [
    "def evaluate(model: nn.Module, test_loader: DataLoader, device: torch.types.Device) -> tuple[float, list[int], list[int]]:\n",
    "    model.eval()\n",
    "    correct = 0\n",
    "    total = 0\n",
    "    all_predictions = []\n",
    "    all_labels = []\n",
    "\n",
    "    with torch.no_grad():\n",
    "        for images, labels in test_loader:\n",
    "            images, labels = images.to(device), labels.to(device)\n",
    "            outputs = model(images)\n",
    "            _, predicted = outputs.max(1)\n",
    "            total += labels.size(0)\n",
    "            correct += predicted.eq(labels).sum().item()\n",
    "            all_predictions.extend(predicted.cpu().numpy())\n",
    "            all_labels.extend(labels.cpu().numpy())\n",
    "\n",
    "    return 100. * correct / total, all_predictions, all_labels"
   ],
   "id": "4a721bd071aa5d9c",
   "outputs": [],
   "execution_count": 5
  },
  {
   "metadata": {
    "ExecuteTime": {
     "end_time": "2025-01-10T14:31:49.765028Z",
     "start_time": "2025-01-10T14:31:49.719189Z"
    }
   },
   "cell_type": "code",
   "source": [
    "def train(model: nn.Module, train_loader: DataLoader, device: torch.types.Device, epochs: int) -> None:\n",
    "    loss_fn = nn.CrossEntropyLoss()\n",
    "    optimizer = torch.optim.Adam((p for p in model.parameters() if p.requires_grad))\n",
    "\n",
    "    for epoch in range(epochs):\n",
    "        train_loss, train_accuracy = train_epoch(model, train_loader, loss_fn, optimizer, device)\n",
    "        print(f\"Epoch {epoch + 1}/{epochs} - Train Loss: {train_loss:.4f}, Train Accuracy: {train_accuracy:.2f}\") \n"
   ],
   "id": "6c2e2cd761f5467d",
   "outputs": [],
   "execution_count": 77
  },
  {
   "metadata": {
    "ExecuteTime": {
     "end_time": "2025-01-10T14:33:21.956683Z",
     "start_time": "2025-01-10T14:31:58.768237Z"
    }
   },
   "cell_type": "code",
   "source": [
    "device = torch.device(\"mps\")\n",
    "batch_size = 64\n",
    "epochs = 15\n",
    "\n",
    "transform = transforms.Compose([transforms.ToTensor(), transforms.Normalize((0.5,), (0.5,))])\n",
    "train_dataset = MNIST(root=\"./data\", train=True, download=True, transform=transform)\n",
    "test_dataset = MNIST(root=\"./data\", train=False, download=True, transform=transform)\n",
    "\n",
    "train_loader = DataLoader(train_dataset, batch_size=batch_size, shuffle=True)\n",
    "test_loader = DataLoader(test_dataset, batch_size=batch_size, shuffle=False)\n",
    "\n",
    "model = SimpleMnistClassifier().to(device)\n",
    "train(model, train_loader, device, epochs)"
   ],
   "id": "4e45c241a39e0ef4",
   "outputs": [
    {
     "name": "stdout",
     "output_type": "stream",
     "text": [
      "Epoch 1/15 - Train Loss: 0.3461, Train Accuracy: 89.43\n",
      "Epoch 2/15 - Train Loss: 0.1538, Train Accuracy: 95.27\n",
      "Epoch 3/15 - Train Loss: 0.1134, Train Accuracy: 96.48\n",
      "Epoch 4/15 - Train Loss: 0.0907, Train Accuracy: 97.17\n",
      "Epoch 5/15 - Train Loss: 0.0779, Train Accuracy: 97.45\n",
      "Epoch 6/15 - Train Loss: 0.0662, Train Accuracy: 97.89\n",
      "Epoch 7/15 - Train Loss: 0.0602, Train Accuracy: 98.04\n",
      "Epoch 8/15 - Train Loss: 0.0529, Train Accuracy: 98.29\n",
      "Epoch 9/15 - Train Loss: 0.0481, Train Accuracy: 98.43\n",
      "Epoch 10/15 - Train Loss: 0.0433, Train Accuracy: 98.55\n",
      "Epoch 11/15 - Train Loss: 0.0393, Train Accuracy: 98.68\n",
      "Epoch 12/15 - Train Loss: 0.0371, Train Accuracy: 98.80\n",
      "Epoch 13/15 - Train Loss: 0.0326, Train Accuracy: 98.86\n",
      "Epoch 14/15 - Train Loss: 0.0333, Train Accuracy: 98.87\n",
      "Epoch 15/15 - Train Loss: 0.0289, Train Accuracy: 99.02\n"
     ]
    }
   ],
   "execution_count": 78
  },
  {
   "metadata": {
    "ExecuteTime": {
     "end_time": "2025-01-10T14:13:49.307271Z",
     "start_time": "2025-01-10T14:13:48.346765Z"
    }
   },
   "cell_type": "code",
   "source": "test_accuracy, all_predictions, all_labels = evaluate(model, test_loader, device)",
   "id": "c8e15ab5bb113baa",
   "outputs": [],
   "execution_count": 66
  },
  {
   "metadata": {
    "ExecuteTime": {
     "end_time": "2025-01-10T14:13:57.054058Z",
     "start_time": "2025-01-10T14:13:57.048499Z"
    }
   },
   "cell_type": "code",
   "source": "test_accuracy",
   "id": "ac25634ac2b7cfad",
   "outputs": [
    {
     "data": {
      "text/plain": [
       "97.74"
      ]
     },
     "execution_count": 67,
     "metadata": {},
     "output_type": "execute_result"
    }
   ],
   "execution_count": 67
  },
  {
   "metadata": {
    "ExecuteTime": {
     "end_time": "2025-01-10T10:00:02.436615Z",
     "start_time": "2025-01-10T10:00:02.431508Z"
    }
   },
   "cell_type": "code",
   "source": [
    "# Find number of parameters\n",
    "def count_parameters(model: nn.Module) -> int:\n",
    "    return sum(p.numel() for p in model.parameters() if p.requires_grad)"
   ],
   "id": "e668ed9d9e497a80",
   "outputs": [],
   "execution_count": 11
  },
  {
   "metadata": {
    "ExecuteTime": {
     "end_time": "2025-01-10T10:00:05.110364Z",
     "start_time": "2025-01-10T10:00:05.102466Z"
    }
   },
   "cell_type": "code",
   "source": "count_parameters(model)",
   "id": "29c75ac754090a38",
   "outputs": [
    {
     "data": {
      "text/plain": [
       "235146"
      ]
     },
     "execution_count": 12,
     "metadata": {},
     "output_type": "execute_result"
    }
   ],
   "execution_count": 12
  },
  {
   "metadata": {
    "ExecuteTime": {
     "end_time": "2025-01-10T10:27:23.777180Z",
     "start_time": "2025-01-10T10:27:23.768485Z"
    }
   },
   "cell_type": "code",
   "source": [
    "class FlippedMNIST(Dataset):\n",
    "    def __init__(self, mnist_dataset: Dataset, digits_to_flip: list[int], flip_probability: float):\n",
    "        self._mnist_dataset = mnist_dataset\n",
    "        self._digits_to_flip = digits_to_flip\n",
    "        self._flip_probability = flip_probability\n",
    "\n",
    "    def __len__(self) -> int:\n",
    "        return len(self._mnist_dataset)\n",
    "\n",
    "    def __getitem__(self, idx: int):\n",
    "        image, label = self._mnist_dataset[idx]\n",
    "        # Check if the label is in the list of digits to flip and flip the image with the given probability\n",
    "        if label in self._digits_to_flip and random.random() < self._flip_probability:\n",
    "            image = torch.flip(image, dims=[2]) # Flip image horizontally\n",
    "        \n",
    "        return image, label\n",
    "        "
   ],
   "id": "95bb617c6e1d9dfc",
   "outputs": [],
   "execution_count": 15
  },
  {
   "metadata": {
    "ExecuteTime": {
     "end_time": "2025-01-10T14:08:29.590532Z",
     "start_time": "2025-01-10T14:08:29.580767Z"
    }
   },
   "cell_type": "code",
   "source": [
    "digits_to_flip = [2, 3]\n",
    "flip_probability = 0.3\n",
    "\n",
    "flipped_train_dataset = FlippedMNIST(train_dataset, digits_to_flip, flip_probability)\n",
    "flipped_train_loader = DataLoader(flipped_train_dataset, batch_size=batch_size, shuffle=True)\n",
    "\n",
    "flipped_test_dataset = FlippedMNIST(test_dataset, digits_to_flip, flip_probability)\n",
    "flipped_test_loader = DataLoader(flipped_test_dataset, batch_size=batch_size, shuffle=False)"
   ],
   "id": "b14c4b87734c4a6f",
   "outputs": [],
   "execution_count": 60
  },
  {
   "metadata": {
    "ExecuteTime": {
     "end_time": "2025-01-10T11:30:57.777691Z",
     "start_time": "2025-01-10T11:30:56.899897Z"
    }
   },
   "cell_type": "code",
   "source": "test_accuracy_flipped, all_predictions_flipped, all_labels_flipped = evaluate(model, flipped_test_loader, device)",
   "id": "47bc13c616ef3558",
   "outputs": [],
   "execution_count": 25
  },
  {
   "metadata": {
    "ExecuteTime": {
     "end_time": "2025-01-10T11:30:58.404936Z",
     "start_time": "2025-01-10T11:30:58.400826Z"
    }
   },
   "cell_type": "code",
   "source": "test_accuracy_flipped",
   "id": "a32ee4361d9f7374",
   "outputs": [
    {
     "data": {
      "text/plain": [
       "92.87"
      ]
     },
     "execution_count": 26,
     "metadata": {},
     "output_type": "execute_result"
    }
   ],
   "execution_count": 26
  },
  {
   "metadata": {
    "ExecuteTime": {
     "end_time": "2025-01-10T11:35:28.744420Z",
     "start_time": "2025-01-10T11:35:28.739884Z"
    }
   },
   "cell_type": "code",
   "source": [
    "def plot_confusion_matrix(labels: np.ndarray, preds: np.ndarray, title: Optional[str] = None) -> None:\n",
    "    # Compute confusion matrix\n",
    "    cm = confusion_matrix(labels, preds)\n",
    "\n",
    "    # Plot confusion matrix\n",
    "    plt.figure(figsize=(5, 5))\n",
    "    sns.heatmap(cm, annot=True, fmt='d', xticklabels=range(10), yticklabels=range(10),cbar=False)\n",
    "    plt.xlabel('Predicted')\n",
    "    plt.ylabel('Ground Truth')\n",
    "    if title is not None:\n",
    "        plt.title(title)\n",
    "    plt.show()"
   ],
   "id": "1f8b1cb51c57e8e7",
   "outputs": [],
   "execution_count": 41
  },
  {
   "metadata": {
    "ExecuteTime": {
     "end_time": "2025-01-10T11:35:37.455973Z",
     "start_time": "2025-01-10T11:35:37.367845Z"
    }
   },
   "cell_type": "code",
   "source": "plot_confusion_matrix(all_labels, all_predictions)",
   "id": "1ddefd657b8ab2a5",
   "outputs": [
    {
     "data": {
      "text/plain": [
       "<Figure size 500x500 with 1 Axes>"
      ],
      "image/png": "[encoded data removed]"
     },
     "metadata": {},
     "output_type": "display_data"
    }
   ],
   "execution_count": 43
  },
  {
   "metadata": {
    "ExecuteTime": {
     "end_time": "2025-01-10T11:36:18.768203Z",
     "start_time": "2025-01-10T11:36:18.659423Z"
    }
   },
   "cell_type": "code",
   "source": "plot_confusion_matrix(all_labels_flipped, all_predictions_flipped)",
   "id": "56422282d5cc3e80",
   "outputs": [
    {
     "data": {
      "text/plain": [
       "<Figure size 500x500 with 1 Axes>"
      ],
      "image/png": "[encoded data removed]"
     },
     "metadata": {},
     "output_type": "display_data"
    }
   ],
   "execution_count": 44
  },
  {
   "metadata": {
    "ExecuteTime": {
     "end_time": "2025-01-10T14:12:06.754371Z",
     "start_time": "2025-01-10T14:12:06.745497Z"
    }
   },
   "cell_type": "code",
   "source": [
    "class LoRALayer(nn.Module):\n",
    "    def __init__(self, inner: nn.Linear, k: int):\n",
    "        super(LoRALayer, self).__init__()\n",
    "        self._inner = inner\n",
    "        self._inner.requires_grad_(False)\n",
    "        n, m = inner.in_features, inner.out_features\n",
    "        self._A = nn.Parameter(torch.randn(n, k))\n",
    "        self._B = nn.Parameter(torch.zeros(k, m))\n",
    "        \n",
    "    def train(self, mode: bool = True) -> \"LoRALayer\":\n",
    "        super().train(mode)\n",
    "        self._inner.train(False)\n",
    "        return self\n",
    "    \n",
    "    def forward(self, x: torch.Tensor) -> torch.Tensor:\n",
    "        return self._inner(x) + x @ self._A @ self._B"
   ],
   "id": "3ed483e88468240",
   "outputs": [],
   "execution_count": 64
  },
  {
   "metadata": {
    "ExecuteTime": {
     "end_time": "2025-01-10T14:14:05.514436Z",
     "start_time": "2025-01-10T14:14:05.509533Z"
    }
   },
   "cell_type": "code",
   "source": [
    "original_fc1 = model.fc1\n",
    "original_fc2 = model.fc2\n",
    "original_fc3 = model.fc3"
   ],
   "id": "d0e42a99404577f2",
   "outputs": [],
   "execution_count": 68
  },
  {
   "metadata": {
    "ExecuteTime": {
     "end_time": "2025-01-10T14:14:06.072238Z",
     "start_time": "2025-01-10T14:14:06.066663Z"
    }
   },
   "cell_type": "code",
   "source": [
    "model.fc1 = LoRALayer(original_fc1, k=4)\n",
    "model.fc2 = LoRALayer(original_fc2, k=4)\n",
    "model.fc3 = LoRALayer(original_fc3, k=4)"
   ],
   "id": "a22f2d2cde860b6a",
   "outputs": [],
   "execution_count": 69
  },
  {
   "metadata": {
    "ExecuteTime": {
     "end_time": "2025-01-10T14:14:11.393033Z",
     "start_time": "2025-01-10T14:14:11.388202Z"
    }
   },
   "cell_type": "code",
   "source": "count_parameters(model)",
   "id": "57896ae4eff00fbf",
   "outputs": [
    {
     "data": {
      "text/plain": [
       "6248"
      ]
     },
     "execution_count": 70,
     "metadata": {},
     "output_type": "execute_result"
    }
   ],
   "execution_count": 70
  },
  {
   "metadata": {
    "ExecuteTime": {
     "end_time": "2025-01-10T14:14:13.629234Z",
     "start_time": "2025-01-10T14:14:13.594736Z"
    }
   },
   "cell_type": "code",
   "source": "model.to(device)",
   "id": "39e8df46889d3cb1",
   "outputs": [
    {
     "data": {
      "text/plain": [
       "SimpleMnistClassifier(\n",
       "  (fc1): LoRALayer(\n",
       "    (_inner): Linear(in_features=784, out_features=256, bias=True)\n",
       "  )\n",
       "  (fc2): LoRALayer(\n",
       "    (_inner): Linear(in_features=256, out_features=128, bias=True)\n",
       "  )\n",
       "  (fc3): LoRALayer(\n",
       "    (_inner): Linear(in_features=128, out_features=10, bias=True)\n",
       "  )\n",
       ")"
      ]
     },
     "execution_count": 71,
     "metadata": {},
     "output_type": "execute_result"
    }
   ],
   "execution_count": 71
  },
  {
   "metadata": {
    "ExecuteTime": {
     "end_time": "2025-01-10T14:15:47.985297Z",
     "start_time": "2025-01-10T14:14:14.903298Z"
    }
   },
   "cell_type": "code",
   "source": "train(model, flipped_train_loader, device, epochs)\n",
   "id": "187af7687ba3a0dd",
   "outputs": [
    {
     "name": "stdout",
     "output_type": "stream",
     "text": [
      "Epoch 1/15 - Train Loss: 0.1212, Train Accuracy: 96.73\n",
      "Epoch 2/15 - Train Loss: 0.0673, Train Accuracy: 97.89\n",
      "Epoch 3/15 - Train Loss: 0.0570, Train Accuracy: 98.21\n",
      "Epoch 4/15 - Train Loss: 0.0494, Train Accuracy: 98.38\n",
      "Epoch 5/15 - Train Loss: 0.0451, Train Accuracy: 98.54\n",
      "Epoch 6/15 - Train Loss: 0.0403, Train Accuracy: 98.71\n",
      "Epoch 7/15 - Train Loss: 0.0382, Train Accuracy: 98.82\n",
      "Epoch 8/15 - Train Loss: 0.0369, Train Accuracy: 98.87\n",
      "Epoch 9/15 - Train Loss: 0.0348, Train Accuracy: 98.94\n",
      "Epoch 10/15 - Train Loss: 0.0331, Train Accuracy: 98.97\n",
      "Epoch 11/15 - Train Loss: 0.0303, Train Accuracy: 99.06\n",
      "Epoch 12/15 - Train Loss: 0.0293, Train Accuracy: 99.09\n",
      "Epoch 13/15 - Train Loss: 0.0284, Train Accuracy: 99.12\n",
      "Epoch 14/15 - Train Loss: 0.0251, Train Accuracy: 99.18\n",
      "Epoch 15/15 - Train Loss: 0.0263, Train Accuracy: 99.15\n"
     ]
    }
   ],
   "execution_count": 72
  },
  {
   "metadata": {
    "ExecuteTime": {
     "end_time": "2025-01-10T14:17:23.715634Z",
     "start_time": "2025-01-10T14:17:22.940196Z"
    }
   },
   "cell_type": "code",
   "source": "test_accuracy_lora, all_predictions_lora, all_labels_lora = evaluate(model, flipped_test_loader, device)",
   "id": "1f19e2332fb2d3ea",
   "outputs": [],
   "execution_count": 74
  },
  {
   "metadata": {
    "ExecuteTime": {
     "end_time": "2025-01-10T14:17:26.351683Z",
     "start_time": "2025-01-10T14:17:26.347951Z"
    }
   },
   "cell_type": "code",
   "source": "test_accuracy",
   "id": "685b6280e76ee6a9",
   "outputs": [
    {
     "data": {
      "text/plain": [
       "97.74"
      ]
     },
     "execution_count": 75,
     "metadata": {},
     "output_type": "execute_result"
    }
   ],
   "execution_count": 75
  },
  {
   "metadata": {
    "ExecuteTime": {
     "end_time": "2025-01-10T14:17:48.568227Z",
     "start_time": "2025-01-10T14:17:48.380974Z"
    }
   },
   "cell_type": "code",
   "source": "plot_confusion_matrix(all_predictions_lora, all_labels_lora)",
   "id": "f0d20cad26999885",
   "outputs": [
    {
     "data": {
      "text/plain": [
       "<Figure size 500x500 with 1 Axes>"
      ],
      "image/png": "[encoded data removed]"
     },
     "metadata": {},
     "output_type": "display_data"
    }
   ],
   "execution_count": 76
  },
  {
   "metadata": {},
   "cell_type": "code",
   "outputs": [],
   "execution_count": null,
   "source": "",
   "id": "ce461ec1c3dbeab9"
  }
 ],
 "metadata": {
  "kernelspec": {
   "display_name": "Python 3",
   "language": "python",
   "name": "python3"
  },
  "language_info": {
   "codemirror_mode": {
    "name": "ipython",
    "version": 2
   },
   "file_extension": ".py",
   "mimetype": "text/x-python",
   "name": "python",
   "nbconvert_exporter": "python",
   "pygments_lexer": "ipython2",
   "version": "2.7.6"
  }
 },
 "nbformat": 4,
 "nbformat_minor": 5
}
